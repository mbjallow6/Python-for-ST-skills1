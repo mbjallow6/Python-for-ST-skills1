{
  "nbformat": 4,
  "nbformat_minor": 0,
  "metadata": {
    "colab": {
      "provenance": [],
      "authorship_tag": "ABX9TyPDjyo96SMOcRsJyFrUS140",
      "include_colab_link": true
    },
    "kernelspec": {
      "name": "python3",
      "display_name": "Python 3"
    },
    "language_info": {
      "name": "python"
    }
  },
  "cells": [
    {
      "cell_type": "markdown",
      "metadata": {
        "id": "view-in-github",
        "colab_type": "text"
      },
      "source": [
        "<a href=\"https://colab.research.google.com/github/mbjallow6/Python-for-ST-skills1/blob/main/python_precheck.ipynb\" target=\"_parent\"><img src=\"https://colab.research.google.com/assets/colab-badge.svg\" alt=\"Open In Colab\"/></a>"
      ]
    },
    {
      "cell_type": "code",
      "source": [
        "class Participant:\n",
        "    def __init__(self, name, surname, age, type_of_sport, awards=None):\n",
        "        self.name = name\n",
        "        self.surname = surname\n",
        "        self.age = age\n",
        "        self.type_of_sport = type_of_sport\n",
        "        self.awards = awards if awards else []\n",
        "\n",
        "    def set_name(self, name):\n",
        "        self.name = name\n",
        "\n",
        "    def get_name(self):\n",
        "        return self.name\n",
        "\n",
        "    def set_surname(self, surname):\n",
        "        self.surname = surname\n",
        "\n",
        "    def get_surname(self):\n",
        "        return self.surname\n",
        "\n",
        "    def set_age(self, age):\n",
        "        self.age = age\n",
        "\n",
        "    def get_age(self):\n",
        "        return self.age\n",
        "\n",
        "    def set_type_of_sport(self, type_of_sport):\n",
        "        self.type_of_sport = type_of_sport\n",
        "\n",
        "    def get_type_of_sport(self):\n",
        "        return self.type_of_sport\n",
        "\n",
        "    def set_awards(self, awards):\n",
        "        self.awards = awards\n",
        "\n",
        "    def get_awards(self):\n",
        "        return self.awards\n"
      ],
      "metadata": {
        "id": "kcvZJXOB7WGK"
      },
      "execution_count": null,
      "outputs": []
    },
    {
      "cell_type": "code",
      "source": [
        "participants = [\n",
        "    Participant(\"John\", \"Doe\", 25, \"Basketball\", [\"National\", \"International\"]),\n",
        "    Participant(\"Jane\", \"Smith\", 20, \"Football\", [\"National\"]),\n",
        "    Participant(\"Alice\", \"Johnson\", 22, \"Swimming\", [\"International\", \"International\"])\n",
        "]\n"
      ],
      "metadata": {
        "id": "QRuldvvl7aoB"
      },
      "execution_count": null,
      "outputs": []
    },
    {
      "cell_type": "code",
      "source": [
        "def select_participants_by_sport(participants, sport):\n",
        "    return [participant for participant in participants if participant.get_type_of_sport() == sport]\n",
        "\n",
        "def select_participants_by_award_count(participants, award_type, min_count):\n",
        "    return [participant for participant in participants if participant.get_awards().count(award_type) >= min_count]\n",
        "\n",
        "# Test the functions:\n",
        "basketball_players = select_participants_by_sport(participants, \"Basketball\")\n",
        "print(f\"Basketball Players: {[player.get_name() for player in basketball_players]}\")\n",
        "\n",
        "participants_with_min_2_international_awards = select_participants_by_award_count(participants, \"International\", 2)\n",
        "print(f\"Participants with at least 2 international awards: {[player.get_name() for player in participants_with_min_2_international_awards]}\")\n"
      ],
      "metadata": {
        "colab": {
          "base_uri": "https://localhost:8080/"
        },
        "id": "6d9Ro_Ho7eIy",
        "outputId": "65187a3f-8437-47dc-c96e-ea57e509cdf0"
      },
      "execution_count": null,
      "outputs": [
        {
          "output_type": "stream",
          "name": "stdout",
          "text": [
            "Basketball Players: ['John']\n",
            "Participants with at least 2 international awards: ['Alice']\n"
          ]
        }
      ]
    }
  ]
}